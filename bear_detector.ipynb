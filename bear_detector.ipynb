{
 "cells": [
  {
   "cell_type": "code",
   "execution_count": 2,
   "metadata": {
    "execution": {
     "iopub.execute_input": "2023-03-22T04:10:53.011688Z",
     "iopub.status.busy": "2023-03-22T04:10:53.010862Z",
     "iopub.status.idle": "2023-03-22T04:10:53.019136Z",
     "shell.execute_reply": "2023-03-22T04:10:53.017913Z",
     "shell.execute_reply.started": "2023-03-22T04:10:53.011642Z"
    }
   },
   "outputs": [],
   "source": [
    "from fastai.vision.all import *\n",
    "from fastai.vision.widgets import *"
   ]
  },
  {
   "cell_type": "markdown",
   "metadata": {},
   "source": [
    "# The Amazing Bear Classifier! \n",
    "You need to know whether you're being chased by a dangerous grizzly, or a sweet teddy bear, and you need an answer fast? Then you've come to the right place. Take a pic of the potentially vicious killer, and click 'upload' to classify it. (Important: this only handles grizzly bears, black bears, and teddy bears. It will not give a sensible answer for polar bears, a bear market, a bear of a man, or hot dogs."
   ]
  },
  {
   "cell_type": "code",
   "execution_count": 3,
   "metadata": {
    "execution": {
     "iopub.execute_input": "2023-03-22T04:10:54.730824Z",
     "iopub.status.busy": "2023-03-22T04:10:54.730492Z",
     "iopub.status.idle": "2023-03-22T04:10:55.120600Z",
     "shell.execute_reply": "2023-03-22T04:10:55.118848Z",
     "shell.execute_reply.started": "2023-03-22T04:10:54.730798Z"
    }
   },
   "outputs": [],
   "source": [
    "path = Path()\n",
    "learn_inf = load_learner(path/'export.pkl', cpu=True)\n",
    "btn_upload = widgets.FileUpload()\n",
    "out_pl = widgets.Output()\n",
    "lbl_pred = widgets.Label()"
   ]
  },
  {
   "cell_type": "code",
   "execution_count": 4,
   "metadata": {
    "execution": {
     "iopub.execute_input": "2023-03-22T04:10:56.350129Z",
     "iopub.status.busy": "2023-03-22T04:10:56.348853Z",
     "iopub.status.idle": "2023-03-22T04:10:56.355189Z",
     "shell.execute_reply": "2023-03-22T04:10:56.354106Z",
     "shell.execute_reply.started": "2023-03-22T04:10:56.350080Z"
    }
   },
   "outputs": [],
   "source": [
    "def on_data_change(change):\n",
    "    lbl_pred.value = ''\n",
    "    img = PILImage.create(btn_upload.data[-1])\n",
    "    out_pl.clear_output()\n",
    "    with out_pl: display(img.to_thumb(128,128))\n",
    "    pred,pred_idx,probs = learn_inf.predict(img)\n",
    "    lbl_pred.value = f'Prediction: {pred}; Probability: {probs[pred_idx]:.04f}'"
   ]
  },
  {
   "cell_type": "code",
   "execution_count": 5,
   "metadata": {
    "execution": {
     "iopub.execute_input": "2023-03-22T04:10:58.087681Z",
     "iopub.status.busy": "2023-03-22T04:10:58.086545Z",
     "iopub.status.idle": "2023-03-22T04:10:58.092262Z",
     "shell.execute_reply": "2023-03-22T04:10:58.090886Z",
     "shell.execute_reply.started": "2023-03-22T04:10:58.087628Z"
    }
   },
   "outputs": [],
   "source": [
    "btn_upload.observe(on_data_change, names=['data'])"
   ]
  },
  {
   "cell_type": "code",
   "execution_count": 6,
   "metadata": {
    "execution": {
     "iopub.execute_input": "2023-03-22T04:10:59.410859Z",
     "iopub.status.busy": "2023-03-22T04:10:59.410473Z",
     "iopub.status.idle": "2023-03-22T04:10:59.437363Z",
     "shell.execute_reply": "2023-03-22T04:10:59.436257Z",
     "shell.execute_reply.started": "2023-03-22T04:10:59.410825Z"
    }
   },
   "outputs": [
    {
     "data": {
      "application/vnd.jupyter.widget-view+json": {
       "model_id": "c0dd1b1d66f340d6b11f5b281b01f530",
       "version_major": 2,
       "version_minor": 0
      },
      "text/plain": [
       "VBox(children=(Label(value='Select your bear!'), FileUpload(value={}, description='Upload'), Output(), Label(v…"
      ]
     },
     "metadata": {},
     "output_type": "display_data"
    }
   ],
   "source": [
    "display(VBox([widgets.Label('Select your bear!'), btn_upload, out_pl, lbl_pred]))"
   ]
  },
  {
   "cell_type": "code",
   "execution_count": null,
   "metadata": {},
   "outputs": [],
   "source": []
  }
 ],
 "metadata": {
  "jupytext": {
   "split_at_heading": true
  },
  "kernelspec": {
   "display_name": "Python 3 (ipykernel)",
   "language": "python",
   "name": "python3"
  },
  "language_info": {
   "codemirror_mode": {
    "name": "ipython",
    "version": 3
   },
   "file_extension": ".py",
   "mimetype": "text/x-python",
   "name": "python",
   "nbconvert_exporter": "python",
   "pygments_lexer": "ipython3",
   "version": "3.9.13"
  }
 },
 "nbformat": 4,
 "nbformat_minor": 4
}
