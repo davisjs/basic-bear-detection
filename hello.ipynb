{
 "cells": [
  {
   "cell_type": "code",
   "execution_count": 2,
   "id": "fe3cb60d-77ea-43f9-bdd6-975234637318",
   "metadata": {
    "execution": {
     "iopub.execute_input": "2023-03-21T03:59:10.364728Z",
     "iopub.status.busy": "2023-03-21T03:59:10.364074Z",
     "iopub.status.idle": "2023-03-21T03:59:10.369698Z",
     "shell.execute_reply": "2023-03-21T03:59:10.368331Z",
     "shell.execute_reply.started": "2023-03-21T03:59:10.364697Z"
    }
   },
   "outputs": [
    {
     "name": "stdout",
     "output_type": "stream",
     "text": [
      "Hello World\n"
     ]
    }
   ],
   "source": [
    " print('Hello World')"
   ]
  }
 ],
 "metadata": {
  "kernelspec": {
   "display_name": "Python 3 (ipykernel)",
   "language": "python",
   "name": "python3"
  },
  "language_info": {
   "codemirror_mode": {
    "name": "ipython",
    "version": 3
   },
   "file_extension": ".py",
   "mimetype": "text/x-python",
   "name": "python",
   "nbconvert_exporter": "python",
   "pygments_lexer": "ipython3",
   "version": "3.9.16"
  }
 },
 "nbformat": 4,
 "nbformat_minor": 5
}
